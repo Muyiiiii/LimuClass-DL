{
 "cells": [
  {
   "cell_type": "code",
   "execution_count": 9,
   "metadata": {},
   "outputs": [],
   "source": [
    "import torch\n",
    "from torch import nn\n",
    "from d2l import torch as d2l\n",
    "\n",
    "batch_size,num_steps=32,35\n",
    "train_iter, vocab = d2l.load_data_time_machine(batch_size, num_steps)"
   ]
  },
  {
   "cell_type": "code",
   "execution_count": 10,
   "metadata": {},
   "outputs": [],
   "source": [
    "def get_params(vocab_size,num_hiddens,device):\n",
    "    num_inputs=num_outputs=vocab_size\n",
    "\n",
    "    def normal(shape):\n",
    "        return torch.randn(size=shape,device=device)*0.01\n",
    "    \n",
    "    def three():\n",
    "        return (normal((num_inputs,num_hiddens)),\n",
    "                normal((num_hiddens,num_hiddens)),\n",
    "                torch.zeros(num_hiddens,device=device))\n",
    "    \n",
    "    W_xz,W_hz,b_z=three()\n",
    "    W_xr,W_hr,b_r=three()\n",
    "    W_xh,W_hh,b_h=three()\n",
    "\n",
    "    W_hq=normal((num_hiddens,num_outputs))\n",
    "    b_q=torch.zeros(num_outputs,device=device)\n",
    "\n",
    "    params=[W_xz,W_hz,b_z,W_xr,W_hr,b_r,W_xh,W_hh,b_h,W_hq,b_q]\n",
    "\n",
    "    for param in params:\n",
    "        param.requires_grad_(True)\n",
    "\n",
    "    return params"
   ]
  },
  {
   "cell_type": "code",
   "execution_count": 11,
   "metadata": {},
   "outputs": [],
   "source": [
    "def init_gru_state(batch_size, num_hiddens, device):\n",
    "    return (torch.zeros((batch_size, num_hiddens), device=device), )"
   ]
  },
  {
   "cell_type": "code",
   "execution_count": null,
   "metadata": {},
   "outputs": [],
   "source": [
    "def gru(inputs,state,params):\n",
    "    W_xz, W_hz, b_z, W_xr, W_hr, b_r, W_xh, W_hh, b_h, W_hq, b_q = params\n",
    "    H,=state\n",
    "    outputs=[]\n",
    "    for X in inputs:\n",
    "        Z=torch.sigmoid((X@W_xz)+(H@W_hz)+b_z)\n",
    "        R=torch.sigmoid((X@W_xr)+(H@W_hr)+b_r)\n",
    "        H_tilda=torch.tanh((X@W_xh)+((R*H)@W_hh)+b_h)\n",
    "        H=Z*H+(1-Z)*H_tilda\n",
    "        Y=H@W_hq+b_q\n",
    "        outputs.append(Y)\n",
    "\n",
    "    return torch.cat(outputs,dim=0),(H,)"
   ]
  }
 ],
 "metadata": {
  "kernelspec": {
   "display_name": "Limu",
   "language": "python",
   "name": "python3"
  },
  "language_info": {
   "codemirror_mode": {
    "name": "ipython",
    "version": 3
   },
   "file_extension": ".py",
   "mimetype": "text/x-python",
   "name": "python",
   "nbconvert_exporter": "python",
   "pygments_lexer": "ipython3",
   "version": "3.9.18"
  },
  "orig_nbformat": 4
 },
 "nbformat": 4,
 "nbformat_minor": 2
}
