{
 "cells": [
  {
   "cell_type": "code",
   "execution_count": 1,
   "metadata": {},
   "outputs": [],
   "source": [
    "import torch\n",
    "from torch import nn\n",
    "from d2l import torch as d2l"
   ]
  },
  {
   "cell_type": "code",
   "execution_count": 2,
   "metadata": {},
   "outputs": [],
   "source": [
    "net=nn.Sequential(\n",
    "    nn.Conv2d(1,96,11,4,1),nn.ReLU(),\n",
    "    nn.MaxPool2d(3,2),\n",
    "    \n",
    "    nn.Conv2d(96,256,5,padding=2),nn.ReLU(),\n",
    "    nn.MaxPool2d(3,2),\n",
    "    \n",
    "    nn.Conv2d(256,384,3,padding=1),nn.ReLU(),\n",
    "    nn.Conv2d(384,384,3,padding=1),nn.ReLU(),\n",
    "    nn.Conv2d(384,256,3,padding=1),nn.ReLU(),\n",
    "    nn.MaxPool2d(3,2),\n",
    "    nn.Flatten(),\n",
    "    \n",
    "    nn.Linear(6400,4096),nn.ReLU(),\n",
    "    nn.Dropout(0.5),\n",
    "    \n",
    "    nn.Linear(4096,4096),nn.ReLU(),\n",
    "    nn.Dropout(0.5),\n",
    "    \n",
    "    nn.Linear(4096,10)\n",
    ")"
   ]
  },
  {
   "cell_type": "code",
   "execution_count": 3,
   "metadata": {},
   "outputs": [
    {
     "name": "stdout",
     "output_type": "stream",
     "text": [
      "Conv2d shape\t torch.Size([1, 96, 54, 54])\n",
      "ReLU shape\t torch.Size([1, 96, 54, 54])\n",
      "MaxPool2d shape\t torch.Size([1, 96, 26, 26])\n",
      "Conv2d shape\t torch.Size([1, 256, 26, 26])\n",
      "ReLU shape\t torch.Size([1, 256, 26, 26])\n",
      "MaxPool2d shape\t torch.Size([1, 256, 12, 12])\n",
      "Conv2d shape\t torch.Size([1, 384, 12, 12])\n",
      "ReLU shape\t torch.Size([1, 384, 12, 12])\n",
      "Conv2d shape\t torch.Size([1, 384, 12, 12])\n",
      "ReLU shape\t torch.Size([1, 384, 12, 12])\n",
      "Conv2d shape\t torch.Size([1, 256, 12, 12])\n",
      "ReLU shape\t torch.Size([1, 256, 12, 12])\n",
      "MaxPool2d shape\t torch.Size([1, 256, 5, 5])\n",
      "Flatten shape\t torch.Size([1, 6400])\n",
      "Linear shape\t torch.Size([1, 4096])\n",
      "ReLU shape\t torch.Size([1, 4096])\n",
      "Dropout shape\t torch.Size([1, 4096])\n",
      "Linear shape\t torch.Size([1, 4096])\n",
      "ReLU shape\t torch.Size([1, 4096])\n",
      "Dropout shape\t torch.Size([1, 4096])\n",
      "Linear shape\t torch.Size([1, 10])\n"
     ]
    }
   ],
   "source": [
    "X=torch.randn(1,1,224,224)\n",
    "for layer in net:\n",
    "    X=layer(X)\n",
    "    print(layer.__class__.__name__,'shape\\t',X.shape)\n",
    "    "
   ]
  },
  {
   "cell_type": "code",
   "execution_count": 4,
   "metadata": {},
   "outputs": [],
   "source": [
    "batch_size = 128\n",
    "train_iter, test_iter = d2l.load_data_fashion_mnist(batch_size, resize=224)\n"
   ]
  },
  {
   "cell_type": "code",
   "execution_count": null,
   "metadata": {},
   "outputs": [],
   "source": [
    "lr, num_epochs = 0.01, 10\n",
    "d2l.train_ch6(net, train_iter, test_iter, num_epochs, lr, d2l.try_gpu())\n"
   ]
  }
 ],
 "metadata": {
  "kernelspec": {
   "display_name": "Limu",
   "language": "python",
   "name": "python3"
  },
  "language_info": {
   "codemirror_mode": {
    "name": "ipython",
    "version": 3
   },
   "file_extension": ".py",
   "mimetype": "text/x-python",
   "name": "python",
   "nbconvert_exporter": "python",
   "pygments_lexer": "ipython3",
   "version": "3.9.18"
  },
  "orig_nbformat": 4
 },
 "nbformat": 4,
 "nbformat_minor": 2
}
