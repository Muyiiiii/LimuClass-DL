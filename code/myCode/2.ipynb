{
 "cells": [
  {
   "cell_type": "code",
   "execution_count": 64,
   "metadata": {},
   "outputs": [
    {
     "name": "stdout",
     "output_type": "stream",
     "text": [
      "《中华人民共和国刑法》第-百三十三条之一第一款第(二)项\n",
      "《中华人民共和国刑法》第六十七条第一款\n",
      "《中华人民共和国刑法》第五十二条\n",
      "《中华人民共和国刑法》第五十三条\n",
      "《中华人民共和国刑事诉讼法》第十五条\n"
     ]
    }
   ],
   "source": [
    "import re\n",
    "\n",
    "text = \"公诉机关指控被告人陈运波犯危险驾驶罪的事实清楚，证据确实、充分，指控的罪名成立，量刑建议适当，应予采纳。依照《中华人民共和国刑法》第-百三十三条之一第一款第(二)项、第六十七条第一款、第五十二条、第五十三条，以及《中华人民共和国刑事诉讼法》第十五条的规定\"\n",
    "\n",
    "# 使用正则表达式提取相关信息\n",
    "clauses = re.findall(r\"(第.*?条(之一)?(第.*?款)?(第.*?项)?)(?=、|，|的|。|$)\", text)\n",
    "\n",
    "results = []\n",
    "for clause in clauses:\n",
    "    # 获取当前条款在文本中的位置\n",
    "    position = text.find(clause[0])\n",
    "\n",
    "    # 从这个位置开始，向前查找最近的 \"《...》\" 格式的法律名称\n",
    "    law_match = re.search(r\"》(.*?)《\", text[:position][::-1])\n",
    "\n",
    "    if law_match:\n",
    "        # 由于我们使用了 [::-1] 来反转字符串，我们还需要反转匹配到的法律名称\n",
    "        law_name = law_match.group(1)[::-1]\n",
    "        results.append(f\"《{law_name}》{clause[0]}\")\n",
    "\n",
    "for result in results:\n",
    "    print(result)\n"
   ]
  }
 ],
 "metadata": {
  "kernelspec": {
   "display_name": "limu",
   "language": "python",
   "name": "python3"
  },
  "language_info": {
   "codemirror_mode": {
    "name": "ipython",
    "version": 3
   },
   "file_extension": ".py",
   "mimetype": "text/x-python",
   "name": "python",
   "nbconvert_exporter": "python",
   "pygments_lexer": "ipython3",
   "version": "3.8.17"
  },
  "orig_nbformat": 4
 },
 "nbformat": 4,
 "nbformat_minor": 2
}
