{
 "cells": [
  {
   "cell_type": "code",
   "execution_count": 34,
   "metadata": {},
   "outputs": [
    {
     "name": "stdout",
     "output_type": "stream",
     "text": [
      "[('第二百五十三条之一第一款', '之一', '第一款', ''), ('第六十七条第三款', '', '第三款', ''), ('第七十二条第一款', '', '第一款', ''), ('第三款，第七十三条第一款', '', '第一款', '')]\n",
      "《中华人民共和国刑法》第二百五十三条之一第一款\n",
      "《中华人民共和国刑法》第六十七条第三款\n",
      "《中华人民共和国刑法》第七十二条第一款\n",
      "《中华人民共和国刑法》第三款，第七十三条第一款\n"
     ]
    }
   ],
   "source": [
    "import re\n",
    "\n",
    "# text = \"公诉机关指控被告人陈运波犯危险驾驶罪的事实清楚，证据确实、充分，指控的罪名成立，量刑建议适当，应予采纳。依照《中华人民共和国刑法》第-百三十三条之一第一款第(二)项、第六十七条第一款、第五十二条、第五十三条，以及《中华人民共和国刑事诉讼法》第十五条的规定\"\n",
    "text = \"依照《中华人民共和国刑法》第二百五十三条之一第一款，第六十七条第三款，第七十二条第一款、第三款，第七十三条第一款、第三款，第六十四条和《中华人民共和国刑事诉讼法》第十五条之规定\"\n",
    "\n",
    "# 使用正则表达式提取相关信息\n",
    "clauses = re.findall(r\"(第.*?条(之一)?(第.*?款)?(第.*?项)?)(?=、|，|的|。|$)\", text)\n",
    "\n",
    "results = []\n",
    "print(clauses)\n",
    "for clause in clauses:\n",
    "    # 获取当前条款在文本中的位置\n",
    "    position = text.find(clause[0])\n",
    "    \n",
    "    # 从这个位置开始，向前查找最近的 \"《...》\" 格式的法律名称\n",
    "    law_match = re.search(r\"》(.*?)《\", text[:position][::-1])\n",
    "\n",
    "    if law_match:\n",
    "        # 由于我们使用了 [::-1] 来反转字符串，我们还需要反转匹配到的法律名称\n",
    "        law_name = law_match.group(1)[::-1]\n",
    "        results.append(f\"《{law_name}》{clause[0]}\")\n",
    "\n",
    "for result in results:\n",
    "    print(result)\n"
   ]
  },
  {
   "cell_type": "code",
   "execution_count": 35,
   "metadata": {},
   "outputs": [
    {
     "name": "stdout",
     "output_type": "stream",
     "text": [
      "[('第二百五十三条之一第一款', '之一', '第一款', ''), ('第六十七条第三款', '', '第三款', ''), ('第七十二条第一款', '', '第一款', ''), ('第三款，第七十三条第一款', '', '第一款', '')]\n",
      "《中华人民共和国刑法》第二百五十三条之一第一款\n",
      "《中华人民共和国刑法》第六十七条第三款\n",
      "《中华人民共和国刑法》第七十二条第一款\n",
      "《中华人民共和国刑法》第三款，第七十三条第一款\n"
     ]
    }
   ],
   "source": [
    "import re\n",
    "\n",
    "# text = \"公诉机关指控被告人陈运波犯危险驾驶罪的事实清楚，证据确实、充分，指控的罪名成立，量刑建议适当，应予采纳。依照《中华人民共和国刑法》第-百三十三条之一第一款第(二)项、第六十七条第一款、第五十二条、第五十三条，以及《中华人民共和国刑事诉讼法》第十五条的规定\"\n",
    "text = \"依照《中华人民共和国刑法》第二百五十三条之一第一款，第六十七条第三款，第七十二条第一款、第三款，第七十三条第一款、第三款，第六十四条和《中华人民共和国刑事诉讼法》第十五条之规定\"\n",
    "\n",
    "# 使用正则表达式提取相关信息\n",
    "clauses = re.findall(r\"(第.*?条(之一)?(第.*?款)?(第.*?项)?)(?=、|，|的|。|$)\", text)\n",
    "\n",
    "results = []\n",
    "texts = []\n",
    "print(clauses)\n",
    "for clause in clauses:\n",
    "    # 获取当前条款在文本中的位置\n",
    "    position = text.find(clause[0])\n",
    "    \n",
    "    # 从这个位置开始，向前查找最近的 \"《...》\" 格式的法律名称\n",
    "    law_match = re.search(r\"》(.*?)《\", text[:position][::-1])\n",
    "\n",
    "    if law_match:\n",
    "        # 由于我们使用了 [::-1] 来反转字符串，我们还需要反转匹配到的法律名称\n",
    "        law_name = law_match.group(1)[::-1]\n",
    "        texts.append(f\"《{law_name}》{clause[0]}\")\n",
    "\n",
    "for text in texts:\n",
    "    # 使用正则表达式提取法律名称、条款和款项\n",
    "    match = re.search(r\"(《.*?》)(第.*?条)((第.*?款)[、，]*(.*?款)?)\", text)\n",
    "    \n",
    "    if match:\n",
    "        law_name = match.group(1)\n",
    "        clause = match.group(2)\n",
    "        sub_clause1 = match.group(4)\n",
    "        \n",
    "        # 如果存在第二个款项，则分解\n",
    "        if match.group(5):\n",
    "            sub_clause2 = match.group(5)\n",
    "\n",
    "            results.append(f\"{law_name}{clause}{sub_clause1}\")\n",
    "            results.append(f\"{law_name}{clause}{sub_clause2}\")\n",
    "        else:\n",
    "            results.append(f\"{law_name}{clause}{sub_clause1}\")\n",
    "    else:\n",
    "        results.append(text)\n",
    "\n",
    "for result in results:\n",
    "    print(result)\n"
   ]
  },
  {
   "cell_type": "markdown",
   "metadata": {},
   "source": [
    "# zyy的代码"
   ]
  },
  {
   "cell_type": "code",
   "execution_count": null,
   "metadata": {},
   "outputs": [],
   "source": [
    "import re\n",
    "\n",
    "# 输入的字符串\n",
    "#input_string = \"依照《中华人民共和国刑法》第二百五十三条之一第一款，第六十七条第三款，第七十二条第一款、第三款，第七十三条第一款、第三款，第六十四条和《中华人民共和国刑事诉讼法》第十五条之规定\"\n",
    "input_string =\"依据《中华人民共和国刑法》第一百三十三条之一第一款第（二）项、第六十七条第三款及《中华人民共和国刑事诉讼法》第十五条之规定\"\n",
    "# 正则表达式模式，用于匹配法典标题和条款\n",
    "pattern = r\"《([^》]+)》([^《]+)\"\n",
    "\n",
    "# 使用正则表达式查找匹配项\n",
    "matches = re.findall(pattern, input_string)\n",
    "\n",
    "\n",
    "# 遍历匹配项并分隔法典的条款\n",
    "for match in matches:\n",
    "    law_name = match[0]\n",
    "    law_section = match[1]\n",
    "    if(\"，\" in law_section):\n",
    "        law_sections = match[1].split(\"，\")\n",
    "        for section in law_sections:\n",
    "            sub_sections = section.split(\"、\")\n",
    "            if(len(sub_sections)>1):#匹配条款\n",
    "                name=re.findall(r\"第[^第]+[条款项]\", sub_sections[0])[-2]\n",
    "            for sub_section in sub_sections:\n",
    "                if(sub_section != sub_sections[0] and len(sub_sections)>1):\n",
    "                    section_match = re.search(r\"(第[^\\s]+[条款项])\", sub_section)\n",
    "                    if section_match:\n",
    "                        print(\"《{}》{}{}\".format(law_name,name, section_match.group()))\n",
    "                else:\n",
    "                    section_match = re.search(r\"(第[^\\s]+[条款项])\", sub_section)\n",
    "                    if section_match:\n",
    "                        print(\"《{}》{}\".format(law_name, section_match.group()))\n",
    "    else:\n",
    "        law_sections = match[1].split(\"、\")\n",
    "        for sub_section in law_sections:\n",
    "            section_match = re.search(r\"(第[^\\s]+[条款项])\", sub_section)\n",
    "            if section_match:\n",
    "                print(\"《{}》{}\".format(law_name, section_match.group()))"
   ]
  }
 ],
 "metadata": {
  "kernelspec": {
   "display_name": "limu",
   "language": "python",
   "name": "python3"
  },
  "language_info": {
   "codemirror_mode": {
    "name": "ipython",
    "version": 3
   },
   "file_extension": ".py",
   "mimetype": "text/x-python",
   "name": "python",
   "nbconvert_exporter": "python",
   "pygments_lexer": "ipython3",
   "version": "3.8.17"
  },
  "orig_nbformat": 4
 },
 "nbformat": 4,
 "nbformat_minor": 2
}
