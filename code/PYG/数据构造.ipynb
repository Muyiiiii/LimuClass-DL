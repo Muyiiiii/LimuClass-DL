{
 "cells": [
  {
   "cell_type": "code",
   "execution_count": 3,
   "metadata": {},
   "outputs": [
    {
     "name": "stdout",
     "output_type": "stream",
     "text": [
      "Data(x=[3, 2], edge_index=[2, 3], y=[3])\n"
     ]
    }
   ],
   "source": [
    "import torch\n",
    "from torch_geometric.data import Data\n",
    "\n",
    "x=torch.tensor([[1,2],[1,3],[3,3]],dtype=torch.float)\n",
    "y=torch.tensor([1,2,3],dtype=torch.float)\n",
    "\n",
    "edge_index=torch.tensor([[1,2,3],\n",
    "                         [2,3,1]],dtype=torch.long)\n",
    "\n",
    "data=Data(x=x,y=y,edge_index=edge_index)\n",
    "\n",
    "print(data)\n"
   ]
  }
 ],
 "metadata": {
  "kernelspec": {
   "display_name": "gnn",
   "language": "python",
   "name": "python3"
  },
  "language_info": {
   "codemirror_mode": {
    "name": "ipython",
    "version": 3
   },
   "file_extension": ".py",
   "mimetype": "text/x-python",
   "name": "python",
   "nbconvert_exporter": "python",
   "pygments_lexer": "ipython3",
   "version": "3.9.18"
  },
  "orig_nbformat": 4
 },
 "nbformat": 4,
 "nbformat_minor": 2
}
