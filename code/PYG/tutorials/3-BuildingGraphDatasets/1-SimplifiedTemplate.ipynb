{
    "cells": [
        {
            "cell_type": "code",
            "execution_count": null,
            "metadata": {},
            "outputs": [],
            "source": [
                "import torch\n",
                "from torch_geometric.data import InMemoryDataset, download_url\n",
                "\n",
                "\n",
                "class MyOwnDataset(InMemoryDataset):\n",
                "    def __init__(self, root, transform=None, pre_transform=None, pre_filter=None):\n",
                "        super().__init__(root, transform, pre_transform, pre_filter)\n",
                "        self.data, self.slices = torch.load(self.processed_paths[0])\n",
                "\n",
                "    @property\n",
                "    def raw_file_names(self):\n",
                "        return ['some_file_1', 'some_file_2', ...]\n",
                "\n",
                "    @property\n",
                "    def processed_file_names(self):\n",
                "        return ['data.pt']\n",
                "\n",
                "    def download(self):\n",
                "        # Download to `self.raw_dir`.\n",
                "        download_url(url, self.raw_dir)\n",
                "        ...\n",
                "\n",
                "    def process(self):\n",
                "        # Read data into huge `Data` list.\n",
                "        data_list = [...]\n",
                "\n",
                "        if self.pre_filter is not None:\n",
                "            data_list = [data for data in data_list if self.pre_filter(data)]\n",
                "\n",
                "        if self.pre_transform is not None:\n",
                "            data_list = [self.pre_transform(data) for data in data_list]\n",
                "        \n",
                "        # data存储的是所有图数据的合并，slices是一个存储所有图数据的大字典\n",
                "        data, slices = self.collate(data_list)\n",
                "        torch.save((data, slices), self.processed_paths[0])"
            ]
        }
    ],
    "metadata": {
        "kernelspec": {
            "display_name": "gnn",
            "language": "python",
            "name": "python3"
        },
        "language_info": {
            "name": "python",
            "version": "3.9.18"
        },
        "orig_nbformat": 4
    },
    "nbformat": 4,
    "nbformat_minor": 2
}