{
 "cells": [
  {
   "cell_type": "code",
   "execution_count": 1,
   "metadata": {},
   "outputs": [
    {
     "name": "stderr",
     "output_type": "stream",
     "text": [
      "Downloading http://snap.stanford.edu/ogb/data/nodeproppred/mag.zip\n",
      "Extracting data/mag/raw/mag.zip\n",
      "Downloading https://data.pyg.org/datasets/mag_metapath2vec_emb.zip\n",
      "Extracting data/mag/raw/mag_metapath2vec_emb.zip\n",
      "Processing...\n",
      "Done!\n"
     ]
    }
   ],
   "source": [
    "from torch_geometric.datasets import OGB_MAG\n",
    "\n",
    "dataset = OGB_MAG(root='./data', preprocess='metapath2vec')\n",
    "data = dataset[0]"
   ]
  },
  {
   "cell_type": "markdown",
   "metadata": {},
   "source": [
    "# Utility Functions"
   ]
  },
  {
   "cell_type": "markdown",
   "metadata": {},
   "source": [
    "In case the edge type can be uniquely identified by only the pair of source and destination node types or the edge type"
   ]
  },
  {
   "cell_type": "code",
   "execution_count": null,
   "metadata": {},
   "outputs": [],
   "source": [
    "paper_node_data = data['paper']\n",
    "cites_edge_data = data['paper', 'cites', 'paper']\n",
    "\n",
    "cites_edge_data = data['paper', 'paper']\n",
    "cites_edge_data = data['cites']"
   ]
  },
  {
   "cell_type": "markdown",
   "metadata": {},
   "source": [
    "add new node types or tensors and remove them:"
   ]
  },
  {
   "cell_type": "code",
   "execution_count": null,
   "metadata": {},
   "outputs": [],
   "source": [
    "data['paper'].year = ...    # Setting a new paper attribute\n",
    "del data['field_of_study']  # Deleting 'field_of_study' node type\n",
    "del data['has_topic']       # Deleting 'has_topic' edge type"
   ]
  },
  {
   "cell_type": "markdown",
   "metadata": {},
   "source": [
    "access the meta-data of the data object, holding information of all present node and edge types:"
   ]
  },
  {
   "cell_type": "code",
   "execution_count": null,
   "metadata": {},
   "outputs": [],
   "source": [
    "node_types, edge_types = data.metadata()\n",
    "\n",
    "print(node_types)\n",
    "# ['paper', 'author', 'institution']\n",
    "\n",
    "print(edge_types)\n",
    "# [('paper', 'cites', 'paper'),\n",
    "# ('author', 'writes', 'paper'),\n",
    "# ('author', 'affiliated_with', 'institution')]"
   ]
  },
  {
   "cell_type": "markdown",
   "metadata": {},
   "source": [
    "The `data` object can be transferred between devices as usual:"
   ]
  },
  {
   "cell_type": "code",
   "execution_count": null,
   "metadata": {},
   "outputs": [],
   "source": [
    "data = data.to('cuda:0')\n",
    "data = data.cpu()"
   ]
  },
  {
   "cell_type": "markdown",
   "metadata": {},
   "source": [
    "further have access to additional helper functions to analyze the given graph"
   ]
  },
  {
   "cell_type": "code",
   "execution_count": null,
   "metadata": {},
   "outputs": [],
   "source": [
    "data.has_isolated_nodes()\n",
    "data.has_self_loops()\n",
    "data.is_undirected()"
   ]
  },
  {
   "cell_type": "markdown",
   "metadata": {},
   "source": [
    "can convert it to a homogeneous “typed” graph via to_homogeneous() which is able to maintain features in case their dimensionalities match across different types\n",
    "\n",
    "Here, homogeneous_data.edge_type represents an edge-level vector that holds the edge type of each edge as an integer."
   ]
  },
  {
   "cell_type": "code",
   "execution_count": null,
   "metadata": {},
   "outputs": [],
   "source": [
    "homogeneous_data = data.to_homogeneous()\n",
    "print(homogeneous_data)\n",
    "Data(x=[1879778, 128], edge_index=[2, 13605929], edge_type=[13605929])"
   ]
  },
  {
   "cell_type": "markdown",
   "metadata": {},
   "source": [
    "# Heterogeneous Graph Transformations"
   ]
  },
  {
   "cell_type": "markdown",
   "metadata": {},
   "source": [
    "Here, ToUndirected() transforms a directed graph into (the PyG representation of) an undirected graph, by adding reverse edges for all edges in the graph. Thus, future message passing is performed in both direction of all edges. The function may add reverse edge types to the heterogeneous graph, if necessary.\n",
    "\n",
    "For all nodes of type 'node_type' and all existing edge types of the form ('node_type', 'edge_type', 'node_type'), the function AddSelfLoops() will add self-loop edges. As a result, each node might receive one or more (one per appropriate edge type) messages from itself during message passing.\n",
    "\n",
    "The transform NormalizeFeatures() works like in the homogeneous case, and normalizes all specified features (of all types) to sum up to one."
   ]
  },
  {
   "cell_type": "code",
   "execution_count": null,
   "metadata": {},
   "outputs": [],
   "source": [
    "import torch_geometric.transforms as T\n",
    "\n",
    "data = T.ToUndirected()(data)\n",
    "data = T.AddSelfLoops()(data)\n",
    "data = T.NormalizeFeatures()(data)"
   ]
  }
 ],
 "metadata": {
  "kernelspec": {
   "display_name": "gnn",
   "language": "python",
   "name": "python3"
  },
  "language_info": {
   "codemirror_mode": {
    "name": "ipython",
    "version": 3
   },
   "file_extension": ".py",
   "mimetype": "text/x-python",
   "name": "python",
   "nbconvert_exporter": "python",
   "pygments_lexer": "ipython3",
   "version": "3.9.18"
  },
  "orig_nbformat": 4
 },
 "nbformat": 4,
 "nbformat_minor": 2
}
