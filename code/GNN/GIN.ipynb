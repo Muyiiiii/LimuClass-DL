{
 "cells": [
  {
   "cell_type": "code",
   "execution_count": null,
   "metadata": {},
   "outputs": [],
   "source": [
    "import torch.nn as nn\n",
    "import torch.nn.functional as F\n",
    "\n",
    "class GINLayer(nn.Module):\n",
    "    def __init__(self, in_features, out_features):\n",
    "        super(GINLayer, self).__init__()\n",
    "        self.mlp = nn.Sequential(\n",
    "            nn.Linear(in_features, out_features),\n",
    "            nn.ReLU(),\n",
    "            nn.Linear(out_features, out_features)\n",
    "        )\n",
    "        self.eps = nn.Parameter(torch.zeros(1))\n",
    "\n",
    "    def forward(self, x, adj):\n",
    "        neighbor_sum = torch.mm(adj, x)\n",
    "        out = (1 + self.eps) * x + neighbor_sum\n",
    "        return self.mlp(out)\n",
    "\n",
    "# Usage:\n",
    "# Given an input feature matrix `node_features` and an adjacency matrix `adj`,\n",
    "# you can apply the GIN layer as follows:\n",
    "# gin_layer = GINLayer(in_features, out_features)\n",
    "# new_features = gin_layer(node_features, adj)\n"
   ]
  }
 ],
 "metadata": {
  "language_info": {
   "name": "python"
  },
  "orig_nbformat": 4
 },
 "nbformat": 4,
 "nbformat_minor": 2
}
