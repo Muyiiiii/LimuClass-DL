{
 "cells": [
  {
   "cell_type": "code",
   "execution_count": null,
   "metadata": {},
   "outputs": [],
   "source": [
    "import torch\n",
    "import torch.nn as nn\n",
    "import torch.nn.functional as F\n",
    "\n",
    "class SageLayer(nn.Module):\n",
    "    \"\"\"\n",
    "    GraphSAGE layer.\n",
    "    \"\"\"\n",
    "    def __init__(self, in_features, out_features):\n",
    "        super(SageLayer, self).__init__()\n",
    "        self.fc_self = nn.Linear(in_features, out_features)\n",
    "        self.fc_neigh = nn.Linear(in_features, out_features)\n",
    "\n",
    "    def forward(self, input, adj):\n",
    "        # Self features\n",
    "        self_feats = self.fc_self(input)\n",
    "        # Neighbors' features\n",
    "        neigh_feats = self.fc_neigh(torch.mm(adj, input))\n",
    "        # Mean aggregation\n",
    "        out = (self_feats + neigh_feats) / 2\n",
    "        return F.relu(out)\n",
    "\n",
    "class GraphSAGE(nn.Module):\n",
    "    \"\"\"\n",
    "    Simple GraphSAGE model with two layers.\n",
    "    \"\"\"\n",
    "    def __init__(self, in_features, hidden_features, out_features):\n",
    "        super(GraphSAGE, self).__init__()\n",
    "        self.layer1 = SageLayer(in_features, hidden_features)\n",
    "        self.layer2 = SageLayer(hidden_features, out_features)\n",
    "\n",
    "    def forward(self, input, adj):\n",
    "        x = self.layer1(input, adj)\n",
    "        x = self.layer2(x, adj)\n",
    "        return x\n",
    "\n",
    "# Example usage:\n",
    "# Initialize an adjacency matrix and node features\n",
    "N = 5  # Number of nodes\n",
    "F_in = 3  # Input feature dimension\n",
    "adj = torch.randn((N, N))\n",
    "adj = (adj + adj.t()) / 2  # Make it symmetric\n",
    "adj = F.normalize(adj, p=1, dim=1)  # Normalize rows to sum to 1\n",
    "node_features = torch.randn((N, F_in))\n",
    "\n",
    "# Initialize and apply GraphSAGE\n",
    "graphsage_model = GraphSAGE(F_in, 4, 2)\n",
    "new_features = graphsage_model(node_features, adj)\n",
    "print(new_features)\n"
   ]
  }
 ],
 "metadata": {
  "language_info": {
   "name": "python"
  },
  "orig_nbformat": 4
 },
 "nbformat": 4,
 "nbformat_minor": 2
}
